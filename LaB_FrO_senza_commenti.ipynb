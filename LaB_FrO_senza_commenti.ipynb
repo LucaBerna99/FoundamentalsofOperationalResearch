{
 "cells": [
  {
   "cell_type": "code",
   "execution_count": null,
   "id": "supported-pencil",
   "metadata": {},
   "outputs": [],
   "source": [
    "import pandas as pd\n",
    "import openpyxl as opx\n",
    "import numpy as np\n",
    "from datetime import date, datetime, time, timedelta\n",
    "import networkx as nx\n",
    "import matplotlib.pyplot as plt\n",
    "import seaborn as sbn"
   ]
  },
  {
   "cell_type": "code",
   "execution_count": null,
   "id": "spatial-player",
   "metadata": {},
   "outputs": [],
   "source": [
    "risp = False\n",
    "while (risp == False):\n",
    "    ans = input('Quale file si vuole utilizzare?\\n\\n1 = File Originale\\n\\n2 = File modificato con porzioni di viaggio tutte nella stessa data\\n\\nDigitare il numero dell\\'opzione   ')\n",
    "    if (ans == '1' or ans == '2'):\n",
    "        risp = True"
   ]
  },
  {
   "cell_type": "code",
   "execution_count": null,
   "id": "indonesian-devil",
   "metadata": {},
   "outputs": [],
   "source": [
    "if ans == '1':\n",
    "    file = 'file di dati.xlsx'\n",
    "else:\n",
    "    file = 'file di dati singolo giorno.xlsx'\n",
    "\n",
    "xlsx   = opx.load_workbook(filename = file, data_only=True)\n",
    "tratte = xlsx['porzioni di viaggio']\n",
    "tempi  = xlsx['tempi di percorrenza a vuoto']\n",
    "\n",
    "df_tempi    = pd.DataFrame(np.array([[i.value for i in j] for j in  tempi['A2':'Q18']]))  \n",
    "df_porzioni = pd.DataFrame(np.array([[i.value for i in j] for j in tratte['A2':'F158']])) \n",
    "\n",
    "xlsx.close()"
   ]
  },
  {
   "cell_type": "code",
   "execution_count": null,
   "id": "prepared-pathology",
   "metadata": {
    "scrolled": true
   },
   "outputs": [],
   "source": [
    "max_bus = int(input(\"\\nINSERIRE il numero di autobus a disposizione del comune \\nIn seguito premere INVIO:\\n\\n\\n\"))\n",
    "\n",
    "K = set(range(1, max_bus + 1))"
   ]
  },
  {
   "cell_type": "code",
   "execution_count": null,
   "id": "cosmetic-stockholm",
   "metadata": {},
   "outputs": [],
   "source": [
    "ser_t = df_tempi.iloc[0:17, 0]"
   ]
  },
  {
   "cell_type": "code",
   "execution_count": null,
   "id": "neural-sequence",
   "metadata": {},
   "outputs": [],
   "source": [
    "df_tempi.columns = ser_t\n",
    "df_tempi.index = ser_t"
   ]
  },
  {
   "cell_type": "code",
   "execution_count": null,
   "id": "guilty-message",
   "metadata": {},
   "outputs": [],
   "source": [
    "df_tempi.columns = df_tempi.columns.fillna('drop')\n",
    "df_tempi.index = df_tempi.index.fillna('drop')\n",
    "df_tempi.drop('drop', inplace = True)\n",
    "df_tempi.drop('drop', axis = 1, inplace = True)"
   ]
  },
  {
   "cell_type": "code",
   "execution_count": null,
   "id": "polished-sucking",
   "metadata": {},
   "outputs": [],
   "source": [
    "ser_p = df_porzioni.iloc[0, 0:6]\n",
    "df_porzioni.columns = ser_p\n",
    "df_porzioni.drop( 0, inplace = True)"
   ]
  },
  {
   "cell_type": "code",
   "execution_count": null,
   "id": "northern-number",
   "metadata": {},
   "outputs": [],
   "source": [
    "for i in range (0, 156):\n",
    "    for j in range (2, 4):\n",
    "        if 'medag' in df_porzioni.iat[i, j]:\n",
    "            df_porzioni.iat[i, j] = \"medaglie d'oro\"\n",
    "        if ('stazione' in df_porzioni.iat[i, j] and df_porzioni.iat[i, j] != 'autostazione'):\n",
    "            df_porzioni.iat[i, j] = \"stazione\"\n",
    "        if 'kenn' in df_porzioni.iat[i, j]:\n",
    "            df_porzioni.iat[i, j] = \"kennedy\"\n",
    "        if 'medoro' in df_porzioni.iat[i, j]:\n",
    "            df_porzioni.iat[i, j] = \"corti di medoro\"\n",
    "        if 'pontegra' in df_porzioni.iat[i, j]:\n",
    "            df_porzioni.iat[i, j] = \"pontegradella itis\"\n",
    "        if 'smm' in df_porzioni.iat[i, j]:\n",
    "            df_porzioni.iat[i, j] = \"smm\"\n",
    "        else: continue\n",
    "            \n",
    "\n",
    "idx_list = df_tempi.index.tolist()\n",
    "idx = pd.Series(idx_list)\n",
    "idx[5] = \"medaglie d'oro\"\n",
    "idx = idx.replace({'stazione fs':'stazione', 'piazzale dante':'p. dante', 'santa maria maddalena': 'smm'})\n",
    "df_tempi.index = idx\n",
    "df_tempi.columns = idx\n"
   ]
  },
  {
   "cell_type": "code",
   "execution_count": null,
   "id": "fifty-hayes",
   "metadata": {},
   "outputs": [],
   "source": [
    "c = np.zeros((156, 156))\n",
    "I = set(range(1, 157))\n",
    "for i in I:\n",
    "    for j in I:\n",
    "        if df_porzioni.at[i, \"final stop\"] == df_porzioni.at[j, \"initial stop\"]:\n",
    "            continue\n",
    "        elif df_tempi.at[df_porzioni.at[i, \"final stop\"], df_porzioni.at[j, \"initial stop\"]] is None:\n",
    "                delta = df_tempi.at[df_porzioni.at[j, \"initial stop\"], df_porzioni.at[i, \"final stop\"]]\n",
    "        else:\n",
    "                delta = df_tempi.at[df_porzioni.at[i, \"final stop\"], df_porzioni.at[j, \"initial stop\"]]\n",
    "        \n",
    "        if (df_porzioni.at[i, \"final time\"] + timedelta(minutes = delta) <= df_porzioni.at[j, \"initial time\"]):\n",
    "            c[i-1, j-1] = 1\n",
    "        else :\n",
    "            c[i-1, j-1] = 0   \n",
    "\n",
    "C = pd.DataFrame(c)"
   ]
  },
  {
   "cell_type": "code",
   "execution_count": null,
   "id": "streaming-motion",
   "metadata": {},
   "outputs": [],
   "source": [
    "extra_pass = df_porzioni[\"extra passengers\"]\n",
    "df_extra = extra_pass.copy() \n",
    "tratte_bus = df_porzioni [['initial stop', 'final stop']]\n",
    "df_tratte = tratte_bus.copy()"
   ]
  },
  {
   "cell_type": "code",
   "execution_count": null,
   "id": "preceding-folder",
   "metadata": {},
   "outputs": [],
   "source": [
    "G = nx.DiGraph()\n",
    "\n",
    "for i in I:\n",
    "    u_i = '{}. {} -> {} nodo1'.format(i, df_tratte.at[i, 'initial stop'],df_tratte.at[i, 'final stop'])\n",
    "    v_i = '{}. {} -> {} nodo2'.format(i, df_tratte.at[i, 'initial stop'],df_tratte.at[i, 'final stop'])\n",
    "    G.add_edge(u_of_edge = u_i, v_of_edge = v_i, weight = 0, capacity = 1)"
   ]
  },
  {
   "cell_type": "code",
   "execution_count": null,
   "id": "beautiful-marketplace",
   "metadata": {},
   "outputs": [],
   "source": [
    "for i in I:\n",
    "    for j in I:\n",
    "        if c[i-1, j-1] == 1:\n",
    "            u_comp = '{}. {} -> {} nodo2'.format(i, df_tratte.at[i, 'initial stop'],df_tratte.at[i, 'final stop'])\n",
    "            v_comp = '{}. {} -> {} nodo1'.format(j, df_tratte.at[j, 'initial stop'],df_tratte.at[j, 'final stop'])\n",
    "            G.add_edge(u_of_edge = u_comp, v_of_edge = v_comp, weight = -df_extra[j] , capacity = 1)\n",
    "            \n"
   ]
  },
  {
   "cell_type": "code",
   "execution_count": null,
   "id": "constant-television",
   "metadata": {},
   "outputs": [],
   "source": [
    "G.add_node('s')\n",
    "G.add_node('t')\n",
    "for i in I:\n",
    "    u_i = '{}. {} -> {} nodo1'.format(i, df_tratte.at[i, 'initial stop'],df_tratte.at[i, 'final stop'])\n",
    "    v_i = '{}. {} -> {} nodo2'.format(i, df_tratte.at[i, 'initial stop'],df_tratte.at[i, 'final stop'])\n",
    "    G.add_edge(u_of_edge = 's', v_of_edge = u_i, weight = -df_extra[i], capacity = 1)\n",
    "    G.add_edge(u_of_edge = v_i, v_of_edge = 't', weight = 0, capacity = 1)"
   ]
  },
  {
   "cell_type": "code",
   "execution_count": null,
   "id": "upper-consumer",
   "metadata": {},
   "outputs": [],
   "source": [
    "flow_costs_k = []\n",
    "\n",
    "k = 0\n",
    "incremento = True\n",
    "while (incremento and k < max_bus):\n",
    "    G.add_edge(u_of_edge = 't', v_of_edge = 's', weight = 0, capacity = k)\n",
    "    flowCost, flowDict = nx.algorithms.flow.network_simplex(G, capacity ='capacity', weight ='weight')\n",
    "    flow_costs_k.append((-1)*flowCost)\n",
    "    \n",
    "    if (flow_costs_k[k] == flow_costs_k[k-1] and k > 1):\n",
    "        flow_max = flow_costs_k[k-1]\n",
    "        incremento = False\n",
    "    k = k + 1\n",
    "    \n",
    "if(incremento == False):\n",
    "    for i in range(3):\n",
    "        flow_costs_k.append(flow_max)\n",
    "\n",
    "flow_edges = []\n",
    "\n",
    "for u, v in G.edges():\n",
    "    G[u][v]['weight'] = -G[u][v]['weight']\n",
    "    if flowDict[u][v] != 0:\n",
    "        flow_edges.append(('%s'%u,'%s'%v))\n"
   ]
  },
  {
   "cell_type": "code",
   "execution_count": null,
   "id": "fabulous-breath",
   "metadata": {},
   "outputs": [],
   "source": [
    "ser_k = pd.Series(flow_costs_k)\n",
    "\n",
    "ser_k = pd.DataFrame(ser_k)\n",
    "ser_k = ser_k.transpose()\n",
    "plot = sbn.catplot(data =ser_k, kind =\"bar\", aspect = 2, height =10, palette =\"crest\")\n",
    "\n",
    "plot.savefig('Istogramma.png')\n"
   ]
  }
 ],
 "metadata": {
  "kernelspec": {
   "display_name": "Python 3",
   "language": "python",
   "name": "python3"
  },
  "language_info": {
   "codemirror_mode": {
    "name": "ipython",
    "version": 3
   },
   "file_extension": ".py",
   "mimetype": "text/x-python",
   "name": "python",
   "nbconvert_exporter": "python",
   "pygments_lexer": "ipython3",
   "version": "3.9.2"
  }
 },
 "nbformat": 4,
 "nbformat_minor": 5
}
